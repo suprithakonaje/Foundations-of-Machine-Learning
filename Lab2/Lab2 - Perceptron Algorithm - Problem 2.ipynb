{
 "cells": [
  {
   "cell_type": "code",
   "execution_count": 145,
   "id": "9cdf2885",
   "metadata": {},
   "outputs": [],
   "source": [
    "import matplotlib.pyplot as plt\n",
    "import numpy as np"
   ]
  },
  {
   "cell_type": "code",
   "execution_count": 146,
   "id": "1aca06aa",
   "metadata": {},
   "outputs": [
    {
     "name": "stdout",
     "output_type": "stream",
     "text": [
      "[[1.41421356 0.        ]\n",
      " [0.70710678 1.22474487]]\n"
     ]
    },
    {
     "data": {
      "image/png": "[encoded data removed]",
      "text/plain": [
       "<Figure size 360x360 with 1 Axes>"
      ]
     },
     "metadata": {
      "needs_background": "light"
     },
     "output_type": "display_data"
    }
   ],
   "source": [
    "noOfData = 100\n",
    "\n",
    "m1 = [[2.5,2.5]]\n",
    "m2 = [[10.0,10.0]]\n",
    "\n",
    "C= [[2,1],[1,2]] # covariance\n",
    "\n",
    "A= np.linalg.cholesky(C)\n",
    "print(A)\n",
    "\n",
    "U1 = np.random.randn(noOfData, 2)\n",
    "X1 = U1 @ A.T + m1\n",
    "\n",
    "U2 = np.random.randn(noOfData, 2)\n",
    "X2 = U2 @ A.T + m2\n",
    "\n",
    "\n",
    "fig, ax = plt.subplots(figsize=(5,5))\n",
    "ax.set_xlim(-2,16)\n",
    "ax.set_ylim(-2, 16)\n",
    "ax.scatter(X1[:,0], X1[:,1])\n",
    "ax.scatter(X2[:,0], X2[:,1])\n",
    "plt.savefig('scatterplot2.png')"
   ]
  },
  {
   "cell_type": "code",
   "execution_count": 147,
   "id": "07f051a1",
   "metadata": {},
   "outputs": [],
   "source": [
    "X = np.concatenate((X1, X2))\n",
    "X = np.append(X, np.ones((2*noOfData, 1)), axis = 1)"
   ]
  },
  {
   "cell_type": "code",
   "execution_count": 148,
   "id": "6ffae2d9",
   "metadata": {},
   "outputs": [],
   "source": [
    "pos = np.ones(noOfData)\n",
    "neg = -1.0 * np.ones(noOfData)\n",
    "Y = np.concatenate((pos, neg))"
   ]
  },
  {
   "cell_type": "code",
   "execution_count": 149,
   "id": "ab519dae",
   "metadata": {},
   "outputs": [
    {
     "name": "stdout",
     "output_type": "stream",
     "text": [
      "(100, 3) (100,) (100, 3) (100,)\n"
     ]
    }
   ],
   "source": [
    "rIndex = np.random.permutation(2*noOfData)\n",
    "Xr = X[rIndex,]\n",
    "Yr = Y[rIndex]\n",
    "# Training and test sets (half half) #\n",
    "X_train = Xr[0:noOfData]\n",
    "Y_train = Yr[0:noOfData]\n",
    "X_test = Xr[noOfData:2*noOfData]\n",
    "Y_test = Yr[noOfData:2*noOfData]\n",
    "print(X_train.shape, Y_train.shape, X_test.shape, Y_test.shape)\n",
    "Ntrain = noOfData;\n",
    "Ntest = noOfData;"
   ]
  },
  {
   "cell_type": "code",
   "execution_count": 150,
   "id": "27604967",
   "metadata": {},
   "outputs": [],
   "source": [
    "def PercentCorrect(Inputs, targets, weights):\n",
    "    N = len(targets)\n",
    "    nCorrect = 0\n",
    "    for n in range(N):\n",
    "        OneInput = Inputs[n,:]\n",
    "        if (targets[n] * np.dot(OneInput, weights) > 0):\n",
    "            nCorrect +=1\n",
    "    return 100*nCorrect/N"
   ]
  },
  {
   "cell_type": "code",
   "execution_count": 159,
   "id": "05649902",
   "metadata": {},
   "outputs": [
    {
     "name": "stdout",
     "output_type": "stream",
     "text": [
      "[ 0.77291143 -0.34092192 -0.70521593]\n",
      "Initial Percentage Correct:  35.00\n",
      "Percentage Correct After Training: 100.00  99.00\n"
     ]
    }
   ],
   "source": [
    "# Perceptron learning loop #\n",
    "# Random initialization of weights #\n",
    "w = np.random.randn(3)\n",
    "print(w)\n",
    "# What is the performance with the initial random weights? #\n",
    "print('Initial Percentage Correct: %6.2f' %(PercentCorrect(X_train, Y_train, w)))\n",
    "# Fixed number of iterations (think of better stopping criterion) #\n",
    "MaxIter=800\n",
    "# Learning rate (change this to see convergence changing) #\n",
    "alpha = 0.010\n",
    "# Space to save answers for plotting #\n",
    "P_train = np.zeros(MaxIter)\n",
    "P_test = np.zeros(MaxIter)\n",
    "# Main Loop #\n",
    "for itr in range(MaxIter):\n",
    "    # Select a data item at random #\n",
    "    r = np.floor(np.random.rand()*Ntrain).astype(int)\n",
    "    x = X_train[r,:]\n",
    "\n",
    "    #If it is misclassified, update weights\n",
    "    if(Y_train[r] * np.dot(x,w) < 0 ):\n",
    "        w +=alpha * Y_train[r] *x\n",
    "\n",
    "#Evaluate trainings and test performance for plotting \n",
    "    P_train[itr] = PercentCorrect(X_train, Y_train, w)\n",
    "    P_test[itr] = PercentCorrect(X_test, Y_test, w)\n",
    "print('Percentage Correct After Training: %6.2f %6.2f'\n",
    "%(PercentCorrect(X_train, Y_train, w), PercentCorrect(X_test, Y_test, w)))"
   ]
  },
  {
   "cell_type": "code",
   "execution_count": 1,
   "id": "ffe355d0",
   "metadata": {},
   "outputs": [
    {
     "ename": "NameError",
     "evalue": "name 'plt' is not defined",
     "output_type": "error",
     "traceback": [
      "\u001b[1;31m---------------------------------------------------------------------------\u001b[0m",
      "\u001b[1;31mNameError\u001b[0m                                 Traceback (most recent call last)",
      "\u001b[1;32m<ipython-input-1-01e975f0a2b6>\u001b[0m in \u001b[0;36m<module>\u001b[1;34m\u001b[0m\n\u001b[1;32m----> 1\u001b[1;33m \u001b[0mfig\u001b[0m\u001b[1;33m,\u001b[0m \u001b[0max\u001b[0m \u001b[1;33m=\u001b[0m \u001b[0mplt\u001b[0m\u001b[1;33m.\u001b[0m\u001b[0msubplots\u001b[0m\u001b[1;33m(\u001b[0m\u001b[0mfigsize\u001b[0m\u001b[1;33m=\u001b[0m\u001b[1;33m(\u001b[0m\u001b[1;36m6\u001b[0m\u001b[1;33m,\u001b[0m\u001b[1;36m4\u001b[0m\u001b[1;33m)\u001b[0m\u001b[1;33m)\u001b[0m\u001b[1;33m\u001b[0m\u001b[1;33m\u001b[0m\u001b[0m\n\u001b[0m\u001b[0;32m      2\u001b[0m \u001b[0max\u001b[0m\u001b[1;33m.\u001b[0m\u001b[0mplot\u001b[0m\u001b[1;33m(\u001b[0m\u001b[0mrange\u001b[0m\u001b[1;33m(\u001b[0m\u001b[0mMaxIter\u001b[0m\u001b[1;33m)\u001b[0m\u001b[1;33m,\u001b[0m \u001b[0mP_train\u001b[0m\u001b[1;33m,\u001b[0m \u001b[0mlabel\u001b[0m \u001b[1;33m=\u001b[0m \u001b[1;34m\"Training\"\u001b[0m\u001b[1;33m)\u001b[0m\u001b[1;33m\u001b[0m\u001b[1;33m\u001b[0m\u001b[0m\n\u001b[0;32m      3\u001b[0m \u001b[0max\u001b[0m\u001b[1;33m.\u001b[0m\u001b[0mplot\u001b[0m\u001b[1;33m(\u001b[0m\u001b[0mrange\u001b[0m\u001b[1;33m(\u001b[0m\u001b[0mMaxIter\u001b[0m\u001b[1;33m)\u001b[0m\u001b[1;33m,\u001b[0m \u001b[0mP_test\u001b[0m\u001b[1;33m,\u001b[0m \u001b[0mlabel\u001b[0m \u001b[1;33m=\u001b[0m \u001b[1;34m\"Test\"\u001b[0m\u001b[1;33m)\u001b[0m\u001b[1;33m\u001b[0m\u001b[1;33m\u001b[0m\u001b[0m\n\u001b[0;32m      4\u001b[0m \u001b[0max\u001b[0m\u001b[1;33m.\u001b[0m\u001b[0mgrid\u001b[0m\u001b[1;33m(\u001b[0m\u001b[1;32mTrue\u001b[0m\u001b[1;33m)\u001b[0m\u001b[1;33m\u001b[0m\u001b[1;33m\u001b[0m\u001b[0m\n\u001b[0;32m      5\u001b[0m \u001b[0max\u001b[0m\u001b[1;33m.\u001b[0m\u001b[0mlegend\u001b[0m\u001b[1;33m(\u001b[0m\u001b[1;33m)\u001b[0m\u001b[1;33m\u001b[0m\u001b[1;33m\u001b[0m\u001b[0m\n",
      "\u001b[1;31mNameError\u001b[0m: name 'plt' is not defined"
     ]
    }
   ],
   "source": [
    "fig, ax = plt.subplots(figsize=(6,4))\n",
    "ax.plot(range(MaxIter), P_train, label = \"Training\")\n",
    "ax.plot(range(MaxIter), P_test, label = \"Test\")\n",
    "ax.grid(True)\n",
    "ax.legend()\n",
    "ax.set_title('Perceptron Learning')\n",
    "ax.set_ylabel('Accuracy', fontsize=14)\n",
    "ax.set_xlabel('Iteration', fontsize=14)\n",
    "plt.savefig('learningCurves2.png')\n",
    "\n",
    "fig, ax = plt.subplots(figsize=(5,5))\n",
    "ax.set_xlim(-2,16)\n",
    "ax.set_ylim(-2, 16)\n",
    "ax.grid(True)\n",
    "ax.scatter(X1[:,0], X1[:,1])\n",
    "ax.scatter(X2[:,0], X2[:,1])\n",
    "x=np.linspace(0,11)\n",
    "plt.plot(x, -(w[0]*x+w[2])/w[1],c=\"g\") # Plot the separating line #x*a0+y*a1=0\n",
    "ax.plot(m1, m2)\n",
    "ax.set_xlabel(\"Iterations\", fontsize=12)\n",
    "ax.set_ylabel(\"Classification Accuracy(%)\", fontsize=12)\n",
    "ax.set_title(\"Gaussian Density Classification Result Scatter Plot\")\n",
    "\n",
    "plt.savefig('ClassificationResult2.png')"
   ]
  },
  {
   "cell_type": "code",
   "execution_count": 153,
   "id": "ed0598ae",
   "metadata": {},
   "outputs": [
    {
     "name": "stdout",
     "output_type": "stream",
     "text": [
      "Accuracy on training set:   1.00\n",
      "Accuracy on test set:   0.98\n"
     ]
    }
   ],
   "source": [
    "# Scikitlearn can do it for us #\n",
    "from sklearn.linear_model import Perceptron\n",
    "from sklearn.metrics import accuracy_score\n",
    "model = Perceptron()\n",
    "model.fit(X_train, Y_train)\n",
    "yh_train = model.predict(X_train)\n",
    "print(\"Accuracy on training set: %6.2f\" %(accuracy_score(yh_train, Y_train)))\n",
    "yh_test = model.predict(X_test)\n",
    "print(\"Accuracy on test set: %6.2f\" %(accuracy_score(yh_test, Y_test)))\n",
    "if (accuracy_score(yh_test, Y_test) > 0.99):\n",
    "    print(\"Wow, Perfect Classification on Separable dataset!\")\n",
    "    \n"
   ]
  }
 ],
 "metadata": {
  "kernelspec": {
   "display_name": "Python 3",
   "language": "python",
   "name": "python3"
  },
  "language_info": {
   "codemirror_mode": {
    "name": "ipython",
    "version": 3
   },
   "file_extension": ".py",
   "mimetype": "text/x-python",
   "name": "python",
   "nbconvert_exporter": "python",
   "pygments_lexer": "ipython3",
   "version": "3.8.8"
  }
 },
 "nbformat": 4,
 "nbformat_minor": 5
}
